{
 "cells": [
  {
   "cell_type": "code",
   "execution_count": 4,
   "id": "f887bbe7",
   "metadata": {},
   "outputs": [],
   "source": [
    "import IPython \n",
    "import numpy as np\n",
    "from sklearn.base import ClassifierMixin\n",
    "from sklearn.svm import SVC\n",
    "from sklearn.datasets import load_digits\n",
    "from sklearn.model_selection import train_test_split"
   ]
  },
  {
   "cell_type": "code",
   "execution_count": 9,
   "id": "754ea56e",
   "metadata": {},
   "outputs": [],
   "source": [
    "def train_test() -> None:\n",
    "    digits = load_digits()\n",
    "    data = digits.images.reshape((len(digits.images), -1))\n",
    "    x_train, x_test, y_train, y_test = train_test_split(data, digits.target, test_size=0.2, shuffle=False)\n",
    "\n",
    "    model = SVC(gamma='scale')\n",
    "    model.fit(x_train, y_train)\n",
    "\n",
    "    test_acc = model.score(x_test, y_test)\n",
    "\n",
    "    print(f\"Test accuracy: {test_acc}\")\n",
    "\n",
    "\n"
   ]
  },
  {
   "cell_type": "code",
   "execution_count": 10,
   "id": "063fa36d",
   "metadata": {},
   "outputs": [
    {
     "name": "stdout",
     "output_type": "stream",
     "text": [
      "Test accuracy: 0.9416666666666667\n"
     ]
    }
   ],
   "source": [
    "train_test()"
   ]
  },
  {
   "cell_type": "markdown",
   "id": "3bd260dd",
   "metadata": {},
   "source": [
    "converting it into a data pipeline using Zenml"
   ]
  },
  {
   "cell_type": "code",
   "execution_count": 2,
   "id": "c5168c98",
   "metadata": {},
   "outputs": [],
   "source": [
    "from zenml import pipeline, step\n",
    "from typing_extensions import Annotated\n",
    "import pandas as pd\n",
    "from typing import Tuple"
   ]
  },
  {
   "cell_type": "code",
   "execution_count": 5,
   "id": "4a56e98f",
   "metadata": {},
   "outputs": [],
   "source": [
    "@step\n",
    "def importer() -> tuple[\n",
    "    Annotated[np.ndarray, 'x_train'],\n",
    "    Annotated[np.ndarray, 'x_test'],\n",
    "    Annotated[np.ndarray, 'y_train'],\n",
    "    Annotated[np.ndarray, 'y_test']\n",
    "]:\n",
    "    digits = load_digits()\n",
    "    data = digits.images.reshape((len(digits.images), -1))\n",
    "\n",
    "    x_train, x_test, y_train, y_test = train_test_split(data, digits.target, test_size=0.2, shuffle=False)\n",
    "\n",
    "    return x_train, x_test, y_train, y_test\n"
   ]
  },
  {
   "cell_type": "code",
   "execution_count": 6,
   "id": "04a08736",
   "metadata": {},
   "outputs": [],
   "source": [
    "@step\n",
    "def svc_trainer(x_train: np.ndarray, y_train: np.ndarray) -> ClassifierMixin:\n",
    "    model = SVC(gamma=0.001)\n",
    "    model.fit(x_train, y_train)\n",
    "    return model"
   ]
  },
  {
   "cell_type": "code",
   "execution_count": 7,
   "id": "4281634f",
   "metadata": {},
   "outputs": [],
   "source": [
    "@step\n",
    "def svc_tester(x_test: np.ndarray, y_test: np.ndarray, model: ClassifierMixin) -> float:\n",
    "    model_score = model.score(x_test, y_test)\n",
    "    print(f\"model score: {model_score}\")\n",
    "    return model_score\n"
   ]
  },
  {
   "cell_type": "markdown",
   "id": "583dbc04",
   "metadata": {},
   "source": [
    "Creating a Pipeline using Zenml "
   ]
  },
  {
   "cell_type": "code",
   "execution_count": 9,
   "id": "3b3bf7e9",
   "metadata": {},
   "outputs": [],
   "source": [
    "@pipeline\n",
    "def deigit_pipeline():\n",
    "    x_train, x_test, y_train, y_test = importer()\n",
    "    model = svc_trainer(x_train, y_train)\n",
    "    eval = svc_tester(x_test, y_test, model)"
   ]
  },
  {
   "cell_type": "markdown",
   "id": "0d44cccf",
   "metadata": {},
   "source": [
    "Running Zenml Pipeline\n"
   ]
  },
  {
   "cell_type": "code",
   "execution_count": 10,
   "id": "a09bb6b9",
   "metadata": {},
   "outputs": [
    {
     "name": "stdout",
     "output_type": "stream",
     "text": [
      "\u001b[37mInitiating a new run for the pipeline: \u001b[0m\u001b[38;5;105mdeigit_pipeline\u001b[37m.\u001b[0m\n",
      "\u001b[37mPyTorch version 2.7.1+cu118 available.\u001b[0m\n",
      "\u001b[37mRegistered new pipeline: \u001b[0m\u001b[38;5;105mdeigit_pipeline\u001b[37m.\u001b[0m\n",
      "\u001b[37mUsing user: \u001b[0m\u001b[38;5;105mdefault\u001b[37m\u001b[0m\n",
      "\u001b[37mUsing stack: \u001b[0m\u001b[38;5;105mdefault\u001b[37m\u001b[0m\n",
      "\u001b[37m  orchestrator: \u001b[0m\u001b[38;5;105mdefault\u001b[37m\u001b[0m\n",
      "\u001b[37m  artifact_store: \u001b[0m\u001b[38;5;105mdefault\u001b[37m\u001b[0m\n",
      "\u001b[37mYou can visualize your pipeline runs in the \u001b[0m\u001b[38;5;105mZenML Dashboard\u001b[37m. In order to try it locally, please run \u001b[0m\u001b[38;5;105mzenml login --local\u001b[37m.\u001b[0m\n",
      "\u001b[37mStep \u001b[0m\u001b[38;5;105mimporter\u001b[37m has started.\u001b[0m\n",
      "\u001b[37m[importer] generated new fontManager\u001b[0m\n",
      "\u001b[37mStep \u001b[0m\u001b[38;5;105mimporter\u001b[37m has finished in \u001b[0m\u001b[38;5;105m2.717s\u001b[37m.\u001b[0m\n",
      "\u001b[37mStep \u001b[0m\u001b[38;5;105msvc_trainer\u001b[37m has started.\u001b[0m\n",
      "\u001b[37mStep \u001b[0m\u001b[38;5;105msvc_trainer\u001b[37m has finished in \u001b[0m\u001b[38;5;105m0.251s\u001b[37m.\u001b[0m\n",
      "\u001b[37mStep \u001b[0m\u001b[38;5;105msvc_tester\u001b[37m has started.\u001b[0m\n",
      "[svc_tester] model score: 0.9583333333333334\n",
      "\u001b[37mStep \u001b[0m\u001b[38;5;105msvc_tester\u001b[37m has finished in \u001b[0m\u001b[38;5;105m0.605s\u001b[37m.\u001b[0m\n",
      "\u001b[37mPipeline run has finished in \u001b[0m\u001b[38;5;105m6.878s\u001b[37m.\u001b[0m\n"
     ]
    }
   ],
   "source": [
    "degit_svc_pipeline = deigit_pipeline()"
   ]
  },
  {
   "cell_type": "code",
   "execution_count": null,
   "id": "ba5e1e75",
   "metadata": {},
   "outputs": [],
   "source": []
  }
 ],
 "metadata": {
  "kernelspec": {
   "display_name": "Python 3",
   "language": "python",
   "name": "python3"
  },
  "language_info": {
   "codemirror_mode": {
    "name": "ipython",
    "version": 3
   },
   "file_extension": ".py",
   "mimetype": "text/x-python",
   "name": "python",
   "nbconvert_exporter": "python",
   "pygments_lexer": "ipython3",
   "version": "3.10.11"
  }
 },
 "nbformat": 4,
 "nbformat_minor": 5
}
